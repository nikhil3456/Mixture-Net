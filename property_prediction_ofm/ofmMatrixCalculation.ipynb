{
 "cells": [
  {
   "cell_type": "code",
   "execution_count": 33,
   "metadata": {},
   "outputs": [],
   "source": [
    "from matminer.data_retrieval.retrieve_MP import MPDataRetrieval\n",
    "from matminer.datasets import load_dataset\n",
    "from pymatgen.core.structure import Structure\n",
    "import pandas as pd\n",
    "import requests\n",
    "import shutil\n",
    "from matminer.featurizers.structure import OrbitalFieldMatrix\n",
    "import numpy as np\n",
    "import pickle as pkl"
   ]
  },
  {
   "cell_type": "code",
   "execution_count": 29,
   "metadata": {},
   "outputs": [],
   "source": [
    "\n",
    "T = ['Sc', 'Ti', 'V', 'Cr', 'Mn', 'Fe', 'Co', 'Ni', 'Cu', 'Zn', 'Y', 'Zr', 'Nb', 'Mo', 'Tc', 'Ru', 'Rh', 'Pd', 'Ag', 'Cd', 'Hf', 'Ta', 'W', 'Re', 'Os', 'Ir', 'Pt', 'Au']\n",
    "LA = ['La', 'Ce', 'Pr', 'Nd', 'Pm', 'Sm', 'Eu', 'Gd', 'Tb', 'Dy', 'Ho', 'Er', 'Tm', 'Yb', 'Lu']\n",
    "X = ['B', 'C', 'N', 'O']\n",
    "\n",
    "print(len(T))\n",
    "print(len(LA))\n",
    "print(len(X))\n",
    "\n",
    "criteria = []\n",
    "\n",
    "for i in T:\n",
    "    m = ''\n",
    "    m = i\n",
    "    for j in T:\n",
    "        criteria.append(m+j)\n",
    "        \n",
    "for i in LA:\n",
    "    m = ''\n",
    "    m = i\n",
    "    for j in T:\n",
    "        criteria.append(m+j)\n",
    "\n",
    "for i in LA:\n",
    "    m = ''\n",
    "    m = i\n",
    "    for j in T:\n",
    "        m1 = m\n",
    "        m1 += j\n",
    "        for k in X:\n",
    "            criteria.append(m1+k)\n",
    "            \n",
    "\n",
    "len(criteria)\n"
   ]
  },
  {
   "cell_type": "code",
   "execution_count": 30,
   "metadata": {},
   "outputs": [],
   "source": [
    "filename = './mp-ids-46744.txt'\n",
    "with open(filename) as f:\n",
    "    criteria = f.readlines()\n",
    "# you may also want to remove whitespace characters like `\\n` at the end of each line\n",
    "criteria = [x.strip() for x in criteria] \n",
    "criteria = criteria[:-1]"
   ]
  },
  {
   "cell_type": "code",
   "execution_count": 31,
   "metadata": {},
   "outputs": [
    {
     "name": "stdout",
     "output_type": "stream",
     "text": [
      "Number of materials: 46744\n"
     ]
    }
   ],
   "source": [
    "print('Number of materials: {}'.format(len(criteria)))"
   ]
  },
  {
   "cell_type": "code",
   "execution_count": 1,
   "metadata": {},
   "outputs": [],
   "source": [
    "def function(criteria):\n",
    "    mpr = MPDataRetrieval(api_key=\"I7dlHeJv9K0gnqC2\")\n",
    "\n",
    "    properties = ['pretty_formula', 'structure', 'nsites', 'formation_energy_per_atom']\n",
    "\n",
    "    df = pd.DataFrame()\n",
    "    for m_id in criteria:\n",
    "        df1 = mpr.get_dataframe(criteria=m_id, properties=properties)\n",
    "        df = pd.concat([df, df1])\n",
    "\n",
    "    df['formation_energy'] = df['formation_energy_per_atom'] * df['nsites']\n",
    "    df['structure'] = pd.Series([Structure.from_dict(df['structure'][i])\\\n",
    "        for i in range(df.shape[0])], df.index)\n",
    "\n",
    "    df.to_pickle('./cgcnn_df')\n",
    "    df"
   ]
  },
  {
   "cell_type": "code",
   "execution_count": null,
   "metadata": {},
   "outputs": [],
   "source": []
  },
  {
   "cell_type": "code",
   "execution_count": 20,
   "metadata": {},
   "outputs": [],
   "source": [
    "def download_cif(df, foldername):\n",
    "    print(\"downloading cif files...............\")\n",
    "    index = df.index\n",
    "    for it, idx in enumerate(index):\n",
    "        url = 'https://www.materialsproject.org/materials/'+idx+'/cif?type=computed'\n",
    "        filename = './{}/cgcnn/{}_{}.cif'.format(foldername, it, idx)\n",
    "\n",
    "        r = requests.get(url, stream=True)\n",
    "        if r.status_code == 200:\n",
    "            with open(filename, 'wb') as f:\n",
    "                r.raw.decode_content = True\n",
    "                shutil.copyfileobj(r.raw, f)"
   ]
  },
  {
   "cell_type": "code",
   "execution_count": 21,
   "metadata": {},
   "outputs": [],
   "source": [
    "def get_ofm_matrix(df):\n",
    "    ofm = OrbitalFieldMatrix(period_tag=False)\n",
    "    # ofm.set_n_jobs(10)\n",
    "    print(\"calculating ofm...............\")\n",
    "    df = ofm.fit_featurize_dataframe(df, 'structure')\n",
    "    print(\"done\")\n",
    "    return df"
   ]
  },
  {
   "cell_type": "code",
   "execution_count": 22,
   "metadata": {},
   "outputs": [],
   "source": [
    "def download_ofm_matrix(df, filename, foldername):\n",
    "    print(\"downloading ofm matrices...............\")\n",
    "    keys = np.array(df.keys())\n",
    "    keys = keys[5:]\n",
    "\n",
    "    ndf = df[keys].values\n",
    "    num_crystal = int(ndf.size/ndf[0].size)\n",
    "    ndf = np.reshape(ndf, (num_crystal, 32, 32))\n",
    "\n",
    "    labels = df['formation_energy'].values\n",
    "    print(ndf.shape)\n",
    "    print(labels.shape)\n",
    "\n",
    "    pkl.dump(ndf, open(\"./{}/ofm/{}_x.pkl\".format(foldername, filename), \"wb\"))\n",
    "    pkl.dump(labels, open(\"./{}/ofm/{}_y.pkl\".format(foldername, filename), \"wb\"))"
   ]
  },
  {
   "cell_type": "code",
   "execution_count": 23,
   "metadata": {
    "scrolled": true
   },
   "outputs": [],
   "source": [
    "# mpr = MPDataRetrieval(api_key=\"I7dlHeJv9K0gnqC2\")\n",
    "\n",
    "# properties = ['pretty_formula', 'structure', 'nsites', 'formation_energy_per_atom']\n",
    "\n",
    "# df1 = mpr.get_dataframe(criteria=\"*-O\", properties=properties)\n",
    "\n",
    "# df1['formation_energy'] = df1['formation_energy_per_atom'] * df1['nsites']\n",
    "# df1['structure'] = pd.Series([Structure.from_dict(df1['structure'][i])\\\n",
    "#     for i in range(df1.shape[0])], df1.index)\n",
    "\n",
    "# df1"
   ]
  },
  {
   "cell_type": "code",
   "execution_count": 24,
   "metadata": {},
   "outputs": [],
   "source": [
    "# df1.to_pickle('./oxides_df')"
   ]
  },
  {
   "cell_type": "code",
   "execution_count": 25,
   "metadata": {
    "scrolled": true
   },
   "outputs": [],
   "source": [
    "# oxides_df = pd.read_pickle('./oxides_df')\n",
    "# oxides_df = get_ofm_matrix(oxides_df)\n",
    "# download_ofm_matrix(oxides_df, filename='ofm_dataset', foldername='dataset_oxides')\n",
    "# download_cif(oxides_df, foldername='dataset_oxides')"
   ]
  },
  {
   "cell_type": "code",
   "execution_count": 26,
   "metadata": {},
   "outputs": [
    {
     "name": "stdout",
     "output_type": "stream",
     "text": [
      "calculating ofm...............\n"
     ]
    },
    {
     "data": {
      "application/vnd.jupyter.widget-view+json": {
       "model_id": "145857d4f4224e14bbab380eac04277f",
       "version_major": 2,
       "version_minor": 0
      },
      "text/plain": [
       "HBox(children=(IntProgress(value=0, description='OrbitalFieldMatrix', max=1), HTML(value='')))"
      ]
     },
     "metadata": {},
     "output_type": "display_data"
    },
    {
     "name": "stdout",
     "output_type": "stream",
     "text": [
      "\n",
      "done\n",
      "downloading ofm matrices...............\n",
      "(1, 32, 32)\n",
      "(1,)\n",
      "downloading cif files...............\n"
     ]
    }
   ],
   "source": [
    "cgcnn_df = pd.read_pickle('./cgcnn_df')\n",
    "cgcnn_df = get_ofm_matrix(cgcnn_df)\n",
    "cgcnn_df\n",
    "download_ofm_matrix(cgcnn_df, filename='ofm_dataset', foldername='dataset_cgcnn')\n",
    "download_cif(cgcnn_df, foldername='dataset_cgcnn')"
   ]
  },
  {
   "cell_type": "code",
   "execution_count": null,
   "metadata": {},
   "outputs": [],
   "source": []
  }
 ],
 "metadata": {
  "kernelspec": {
   "display_name": "Python 3",
   "language": "python",
   "name": "python3"
  },
  "language_info": {
   "codemirror_mode": {
    "name": "ipython",
    "version": 3
   },
   "file_extension": ".py",
   "mimetype": "text/x-python",
   "name": "python",
   "nbconvert_exporter": "python",
   "pygments_lexer": "ipython3",
   "version": "3.7.4"
  }
 },
 "nbformat": 4,
 "nbformat_minor": 2
}
