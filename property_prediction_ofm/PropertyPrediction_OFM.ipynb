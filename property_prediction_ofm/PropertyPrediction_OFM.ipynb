{
 "cells": [
  {
   "cell_type": "code",
   "execution_count": 2,
   "metadata": {},
   "outputs": [],
   "source": [
    "import torch\n",
    "import torchvision\n",
    "import torchvision.transforms as transforms\n",
    "import numpy as np"
   ]
  },
  {
   "cell_type": "code",
   "execution_count": 3,
   "metadata": {},
   "outputs": [
    {
     "name": "stdout",
     "output_type": "stream",
     "text": [
      "cuda:0\n"
     ]
    }
   ],
   "source": [
    "device = torch.device(\"cuda:0\" if torch.cuda.is_available() else \"cpu\")\n",
    "print(device)"
   ]
  },
  {
   "cell_type": "code",
   "execution_count": 4,
   "metadata": {},
   "outputs": [
    {
     "name": "stdout",
     "output_type": "stream",
     "text": [
      "Dataset-Size: 1005\n",
      "Min Element: 0.0\n",
      "Max Element: 2.5780038377488013\n"
     ]
    }
   ],
   "source": [
    "import pickle\n",
    "file_x = open('./ofm_dataset_x.pkl', 'rb')\n",
    "file_y = open('./ofm_dataset_y.pkl', 'rb')\n",
    "X = pickle.load(file_x, encoding='bytes')\n",
    "\n",
    "# print size of dataset\n",
    "print('Dataset-Size: {}'.format(X.shape[0]))\n",
    "\n",
    "# find max and min element in X\n",
    "minMat = np.min(X)\n",
    "maxMat = np.max(X)\n",
    "print(\"Min Element: {}\\nMax Element: {}\".format(minMat, maxMat))\n",
    "\n",
    "Y = pickle.load(file_y, encoding='bytes')\n",
    "# X = np.stack((X,)*3, axis=-1)"
   ]
  },
  {
   "cell_type": "code",
   "execution_count": 17,
   "metadata": {},
   "outputs": [],
   "source": [
    "dataset_size = X.shape[0]\n",
    "train_size = int((dataset_size*90)/100)\n",
    "X_train = X[:train_size]\n",
    "Y_train = Y[:train_size]\n",
    "idx = np.random.permutation(X_train.shape[0])\n",
    "X_train = X_train[idx]\n",
    "Y_train = Y_train[idx]\n",
    "\n",
    "### set Y to 0 for testing \n",
    "Y_train = Y_train\n",
    "\n",
    "X_test = X[train_size:]\n",
    "Y_test = Y[train_size:]"
   ]
  },
  {
   "cell_type": "code",
   "execution_count": 18,
   "metadata": {},
   "outputs": [],
   "source": [
    "# Hyperparams\n",
    "BATCH_SIZE = 4\n",
    "LR = 0.003 # initial Learning Rate"
   ]
  },
  {
   "cell_type": "code",
   "execution_count": 19,
   "metadata": {},
   "outputs": [],
   "source": [
    "from torch.utils.data import Dataset, TensorDataset\n",
    "import torchvision\n",
    "import torchvision.transforms as transforms\n",
    "\n",
    "class FingerprintDataset(Dataset):\n",
    "    def __init__(self, samples, transform=None):\n",
    "        self.samples = samples\n",
    "        self.transform = transform\n",
    "    \n",
    "    def __getitem__(self, index):\n",
    "        x = self.samples[0][index]\n",
    "        y = self.samples[1][index]\n",
    "        \n",
    "        if self.transform:\n",
    "            x = self.transform(x)\n",
    "        \n",
    "        return x, torch.tensor(y)\n",
    "    \n",
    "    def __len__(self):\n",
    "        return self.samples[0].shape[0]"
   ]
  },
  {
   "cell_type": "code",
   "execution_count": 20,
   "metadata": {},
   "outputs": [],
   "source": [
    "transform = transforms.Compose([\n",
    "     transforms.ToTensor()])\n",
    "\n",
    "train_dataset = FingerprintDataset((X_train, Y_train), transform=transform)\n",
    "train_loader = torch.utils.data.DataLoader(train_dataset, batch_size=BATCH_SIZE, shuffle=True, num_workers=2)\n",
    "\n",
    "test_dataset = FingerprintDataset((X_test, Y_test), transform=transform)\n",
    "test_loader = torch.utils.data.DataLoader(test_dataset, batch_size=BATCH_SIZE, shuffle=False, num_workers=2)"
   ]
  },
  {
   "cell_type": "code",
   "execution_count": 21,
   "metadata": {
    "scrolled": true
   },
   "outputs": [
    {
     "name": "stdout",
     "output_type": "stream",
     "text": [
      "torch.Size([4, 1, 32, 32])\n"
     ]
    },
    {
     "data": {
      "image/png": "[encoded data removed]",
      "text/plain": [
       "<Figure size 432x288 with 1 Axes>"
      ]
     },
     "metadata": {
      "needs_background": "light"
     },
     "output_type": "display_data"
    },
    {
     "data": {
      "image/png": "[encoded data removed]",
      "text/plain": [
       "<Figure size 432x288 with 1 Axes>"
      ]
     },
     "metadata": {
      "needs_background": "light"
     },
     "output_type": "display_data"
    }
   ],
   "source": [
    "import matplotlib.pyplot as plt\n",
    "import numpy as np\n",
    "\n",
    "# functions to show an image\n",
    "\n",
    "\n",
    "def imshow(img, label, predicted=False):\n",
    "    npimg = np.uint8((img.numpy()*255.0)/maxMat)\n",
    "    npimg = np.transpose(npimg, (1, 2, 0))\n",
    "    img = np.reshape(npimg, (npimg.shape[0], npimg.shape[1]))\n",
    "    if predicted==False:    \n",
    "        plt.title(\"Formation-Energy: {}\".format(label))\n",
    "    else:\n",
    "        plt.title(\"Formation-Energy\\n   Ground-truth: {}\\n   Predicted: {}\".format(label, predicted))\n",
    "    plt.axis('off')\n",
    "    plt.imshow(img)\n",
    "    plt.show()\n",
    "\n",
    "\n",
    "# get some random training images\n",
    "dataiter = iter(train_loader)\n",
    "images, labels = dataiter.next()\n",
    "\n",
    "print(images.shape)\n",
    "\n",
    "# show first 2 images from the batch\n",
    "for i in range(2):\n",
    "    imshow(images[i], labels[i])"
   ]
  },
  {
   "cell_type": "code",
   "execution_count": 22,
   "metadata": {},
   "outputs": [],
   "source": [
    "import torch.nn as nn\n",
    "import torch.nn.functional as F\n",
    "from torch.autograd import Variable\n",
    "\n",
    "class Net(nn.Module):\n",
    "    def __init__(self, input_size=(1, 32, 32)):\n",
    "        super(Net, self).__init__()\n",
    "        self.features = nn.Sequential(\n",
    "            nn.Conv2d(1, 32, (5, 5)), # padding = (F-1)/2 (to keep the size constant) \n",
    "            nn.ReLU(),\n",
    "            nn.Conv2d(32, 32, (3, 3)),\n",
    "            nn.ReLU(),\n",
    "            nn.MaxPool2d(2, 2), # 32\n",
    "            nn.Conv2d(32, 64, (3, 3)),\n",
    "            nn.ReLU(),\n",
    "        )\n",
    "        \n",
    "        self.flat_fts = self.get_flat_fts(input_size, self.features)\n",
    "        \n",
    "        self.classifier = nn.Sequential(\n",
    "            nn.Linear(self.flat_fts, 48),\n",
    "            nn.ReLU(),\n",
    "            nn.Linear(48, 32),\n",
    "            nn.ReLU(),\n",
    "            nn.Linear(32, 1)\n",
    "        )\n",
    "        \n",
    "    def get_flat_fts(self, in_size, fts):\n",
    "        f = fts(Variable(torch.ones(1,*in_size)))\n",
    "        return int(np.prod(f.size()[1:]))\n",
    "    \n",
    "    def forward(self, x):\n",
    "        fts = self.features(x)\n",
    "        flat_fts = fts.view(-1, self.flat_fts)\n",
    "        out = self.classifier(flat_fts)\n",
    "        return out"
   ]
  },
  {
   "cell_type": "code",
   "execution_count": 23,
   "metadata": {},
   "outputs": [
    {
     "data": {
      "text/plain": [
       "Net(\n",
       "  (features): Sequential(\n",
       "    (0): Conv2d(1, 32, kernel_size=(5, 5), stride=(1, 1))\n",
       "    (1): ReLU()\n",
       "    (2): Conv2d(32, 32, kernel_size=(3, 3), stride=(1, 1))\n",
       "    (3): ReLU()\n",
       "    (4): MaxPool2d(kernel_size=2, stride=2, padding=0, dilation=1, ceil_mode=False)\n",
       "    (5): Conv2d(32, 64, kernel_size=(3, 3), stride=(1, 1))\n",
       "    (6): ReLU()\n",
       "  )\n",
       "  (classifier): Sequential(\n",
       "    (0): Linear(in_features=7744, out_features=48, bias=True)\n",
       "    (1): ReLU()\n",
       "    (2): Linear(in_features=48, out_features=32, bias=True)\n",
       "    (3): ReLU()\n",
       "    (4): Linear(in_features=32, out_features=1, bias=True)\n",
       "  )\n",
       ")"
      ]
     },
     "execution_count": 23,
     "metadata": {},
     "output_type": "execute_result"
    }
   ],
   "source": [
    "net = Net()\n",
    "net = net.float()\n",
    "net.to(device)"
   ]
  },
  {
   "cell_type": "code",
   "execution_count": 12,
   "metadata": {},
   "outputs": [],
   "source": [
    "import torch.optim as optim\n",
    "\n",
    "# criterion = nn.L1Loss()\n",
    "# criterion = nn.MSELoss()\n",
    "criterion = nn.SmoothL1Loss()\n",
    "# optimizer = optim.Adam(net.parameters(), lr=LR)\n",
    "optimizer = optim.RMSprop(net.parameters(), lr=LR)"
   ]
  },
  {
   "cell_type": "code",
   "execution_count": 30,
   "metadata": {},
   "outputs": [],
   "source": [
    "def adjust_learning_rate(optimizer, epoch, k):\n",
    "    \"\"\"Sets the learning rate to the initial LR decayed by 10 every k epochs\"\"\"\n",
    "    assert type(k) is int\n",
    "    lr = LR * (0.1 ** (epoch // k))\n",
    "    for param_group in optimizer.param_groups:\n",
    "        param_group['lr'] = lr"
   ]
  },
  {
   "cell_type": "code",
   "execution_count": 36,
   "metadata": {},
   "outputs": [],
   "source": [
    "def train(trainloader, numEpochs, k):\n",
    "    \n",
    "    for epoch in range(numEpochs):  # loop over the dataset multiple times\n",
    "        running_loss = 0.0\n",
    "        if epoch != 0 and epoch%k==0: adjust_learning_rate(optimizer, epoch, k)\n",
    "        for i, data in enumerate(trainloader, 0):\n",
    "            # get the inputs; data is a list of [inputs, labels]\n",
    "            inputs, labels = data[0].float().to(device), (torch.squeeze(data[1])).float().to(device)\n",
    "            labels = torch.squeeze(labels)\n",
    "            # zero the parameter gradients\n",
    "            optimizer.zero_grad()\n",
    "            \n",
    "            # print(inputs.shape)\n",
    "            # forward + backward + optimize\n",
    "            outputs = net(inputs)\n",
    "            loss = criterion(outputs, labels)\n",
    "            loss.backward()\n",
    "            optimizer.step()\n",
    "\n",
    "            # print statistics\n",
    "            running_loss += loss.item()\n",
    "            if i % 10 == 9:    # print every 10 mini-batches\n",
    "                #print('[%d, %5d] loss: %.3f' % (epoch + 1, i + 1, running_loss / 10))\n",
    "                running_loss = 0.0\n",
    "\n",
    "    print('Finished Training')"
   ]
  },
  {
   "cell_type": "code",
   "execution_count": 37,
   "metadata": {
    "scrolled": true
   },
   "outputs": [
    {
     "name": "stdout",
     "output_type": "stream",
     "text": [
      "Finished Training\n"
     ]
    }
   ],
   "source": [
    "\"\"\"Sets the learning rate to the initial LR decayed by 10 every k epochs\"\"\"\n",
    "k = 1\n",
    "train(train_loader, 50, 10)"
   ]
  },
  {
   "cell_type": "code",
   "execution_count": 38,
   "metadata": {},
   "outputs": [],
   "source": [
    "PATH = './propertyPredictionUsingOFM_net.pth'\n",
    "# torch.save(net.state_dict(), PATH)"
   ]
  },
  {
   "cell_type": "code",
   "execution_count": 40,
   "metadata": {
    "scrolled": true
   },
   "outputs": [
    {
     "data": {
      "image/png": "[encoded data removed]",
      "text/plain": [
       "<Figure size 432x288 with 1 Axes>"
      ]
     },
     "metadata": {
      "needs_background": "light"
     },
     "output_type": "display_data"
    },
    {
     "data": {
      "image/png": "[encoded data removed]",
      "text/plain": [
       "<Figure size 432x288 with 1 Axes>"
      ]
     },
     "metadata": {
      "needs_background": "light"
     },
     "output_type": "display_data"
    },
    {
     "data": {
      "image/png": "[encoded data removed]",
      "text/plain": [
       "<Figure size 432x288 with 1 Axes>"
      ]
     },
     "metadata": {
      "needs_background": "light"
     },
     "output_type": "display_data"
    },
    {
     "data": {
      "image/png": "[encoded data removed]",
      "text/plain": [
       "<Figure size 432x288 with 1 Axes>"
      ]
     },
     "metadata": {
      "needs_background": "light"
     },
     "output_type": "display_data"
    }
   ],
   "source": [
    "dataiter = iter(test_loader)\n",
    "images, labels = dataiter.next()\n",
    "\n",
    "# print images\n",
    "for i in range(BATCH_SIZE):\n",
    "    imshow(images[i], labels[i])"
   ]
  },
  {
   "cell_type": "code",
   "execution_count": 47,
   "metadata": {},
   "outputs": [
    {
     "data": {
      "text/plain": [
       "<All keys matched successfully>"
      ]
     },
     "execution_count": 47,
     "metadata": {},
     "output_type": "execute_result"
    }
   ],
   "source": [
    "net = Net()\n",
    "net = net.float()\n",
    "net.load_state_dict(torch.load(PATH))"
   ]
  },
  {
   "cell_type": "code",
   "execution_count": 48,
   "metadata": {},
   "outputs": [],
   "source": [
    "outputs = net(images.float())"
   ]
  },
  {
   "cell_type": "code",
   "execution_count": null,
   "metadata": {},
   "outputs": [],
   "source": []
  },
  {
   "cell_type": "code",
   "execution_count": null,
   "metadata": {},
   "outputs": [],
   "source": []
  },
  {
   "cell_type": "code",
   "execution_count": null,
   "metadata": {},
   "outputs": [],
   "source": []
  },
  {
   "cell_type": "code",
   "execution_count": null,
   "metadata": {},
   "outputs": [],
   "source": []
  }
 ],
 "metadata": {
  "kernelspec": {
   "display_name": "Python 3",
   "language": "python",
   "name": "python3"
  },
  "language_info": {
   "codemirror_mode": {
    "name": "ipython",
    "version": 3
   },
   "file_extension": ".py",
   "mimetype": "text/x-python",
   "name": "python",
   "nbconvert_exporter": "python",
   "pygments_lexer": "ipython3",
   "version": "3.7.4"
  }
 },
 "nbformat": 4,
 "nbformat_minor": 2
}
